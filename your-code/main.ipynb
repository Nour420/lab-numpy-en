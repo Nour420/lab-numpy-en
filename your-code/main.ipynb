{
 "cells": [
  {
   "cell_type": "code",
   "execution_count": 91,
   "id": "5c2c4473-838f-4241-8fca-fd789554b614",
   "metadata": {
    "tags": []
   },
   "outputs": [],
   "source": [
    "# 1. Import the numpy package under the name np\n",
    "import numpy as np"
   ]
  },
  {
   "cell_type": "code",
   "execution_count": 93,
   "id": "4a8a89d1-36e3-426a-8c24-574edb9e6abd",
   "metadata": {
    "tags": []
   },
   "outputs": [
    {
     "name": "stdout",
     "output_type": "stream",
     "text": [
      "1.26.4\n",
      "Build Dependencies:\n",
      "  blas:\n",
      "    detection method: pkgconfig\n",
      "    found: true\n",
      "    include directory: C:/Users/kshno/anaconda3/Library/include\n",
      "    lib directory: C:/Users/kshno/anaconda3/Library/lib\n",
      "    name: mkl-sdl\n",
      "    openblas configuration: unknown\n",
      "    pc file directory: C:\\b\\abs_c1ywpu18ar\\croot\\numpy_and_numpy_base_1708638681471\\_h_env\\Library\\lib\\pkgconfig\n",
      "    version: '2023.1'\n",
      "  lapack:\n",
      "    detection method: internal\n",
      "    found: true\n",
      "    include directory: unknown\n",
      "    lib directory: unknown\n",
      "    name: dep1868282989520\n",
      "    openblas configuration: unknown\n",
      "    pc file directory: unknown\n",
      "    version: 1.26.4\n",
      "Compilers:\n",
      "  c:\n",
      "    commands: cl.exe\n",
      "    linker: link\n",
      "    name: msvc\n",
      "    version: 19.29.30154\n",
      "  c++:\n",
      "    commands: cl.exe\n",
      "    linker: link\n",
      "    name: msvc\n",
      "    version: 19.29.30154\n",
      "  cython:\n",
      "    commands: cython\n",
      "    linker: cython\n",
      "    name: cython\n",
      "    version: 3.0.8\n",
      "Machine Information:\n",
      "  build:\n",
      "    cpu: x86_64\n",
      "    endian: little\n",
      "    family: x86_64\n",
      "    system: windows\n",
      "  host:\n",
      "    cpu: x86_64\n",
      "    endian: little\n",
      "    family: x86_64\n",
      "    system: windows\n",
      "Python Information:\n",
      "  path: C:\\b\\abs_c1ywpu18ar\\croot\\numpy_and_numpy_base_1708638681471\\_h_env\\python.exe\n",
      "  version: '3.11'\n",
      "SIMD Extensions:\n",
      "  baseline:\n",
      "  - SSE\n",
      "  - SSE2\n",
      "  - SSE3\n",
      "  found:\n",
      "  - SSSE3\n",
      "  - SSE41\n",
      "  - POPCNT\n",
      "  - SSE42\n",
      "  - AVX\n",
      "  - F16C\n",
      "  - FMA3\n",
      "  - AVX2\n",
      "  not found:\n",
      "  - AVX512F\n",
      "  - AVX512CD\n",
      "  - AVX512_SKX\n",
      "  - AVX512_CLX\n",
      "  - AVX512_CNL\n",
      "  - AVX512_ICL\n",
      "\n"
     ]
    }
   ],
   "source": [
    "# 2. Print the numpy version and the configuration\n",
    "print(np.__version__)\n",
    "np.show_config()"
   ]
  },
  {
   "cell_type": "code",
   "execution_count": 95,
   "id": "c9b6a7b1-64a9-40da-bf2f-e17caf2b9926",
   "metadata": {
    "tags": []
   },
   "outputs": [],
   "source": [
    "# 3. Generate a 2x3x5 3-dimensional array with random values. Assign the array to variable \"a\"\n",
    "a = np.random.randn(2, 3, 5)"
   ]
  },
  {
   "cell_type": "code",
   "execution_count": 97,
   "id": "0fd30153-cceb-4c86-b21d-5f1865b95711",
   "metadata": {
    "tags": []
   },
   "outputs": [
    {
     "name": "stdout",
     "output_type": "stream",
     "text": [
      "[[[ 0.51289093  0.60941971 -0.16639195  0.94994103 -1.24352384]\n",
      "  [ 0.12318304 -2.00373867 -1.04412502  1.11192634  0.58787829]\n",
      "  [-1.10396258  2.13382021  2.21697427  0.46803774 -0.31686625]]\n",
      "\n",
      " [[ 0.51807043 -0.78434278  0.13669463  2.28561586  0.34572975]\n",
      "  [ 0.31307379  0.47004352 -0.50025639 -0.37198549 -0.71063589]\n",
      "  [-2.23738351 -1.73239138  0.10125341 -0.19847513 -1.02420246]]]\n"
     ]
    }
   ],
   "source": [
    "# 4. Print a\n",
    "print(a)"
   ]
  },
  {
   "cell_type": "code",
   "execution_count": 99,
   "id": "29f540ec-2e1e-4710-b794-572ad8f2c198",
   "metadata": {
    "tags": []
   },
   "outputs": [],
   "source": [
    "# 5. Create a 5x2x3 3-dimensional array with all values equaling 1. Assign the array to variable \"b\"\n",
    "b = np.ones((5, 2, 3))"
   ]
  },
  {
   "cell_type": "code",
   "execution_count": 101,
   "id": "62615e53-b177-40dc-b061-6f4ebc8543ef",
   "metadata": {
    "tags": []
   },
   "outputs": [
    {
     "name": "stdout",
     "output_type": "stream",
     "text": [
      "[[[1. 1. 1.]\n",
      "  [1. 1. 1.]]\n",
      "\n",
      " [[1. 1. 1.]\n",
      "  [1. 1. 1.]]\n",
      "\n",
      " [[1. 1. 1.]\n",
      "  [1. 1. 1.]]\n",
      "\n",
      " [[1. 1. 1.]\n",
      "  [1. 1. 1.]]\n",
      "\n",
      " [[1. 1. 1.]\n",
      "  [1. 1. 1.]]]\n"
     ]
    }
   ],
   "source": [
    "# 6. Print b\n",
    "print(b)"
   ]
  },
  {
   "cell_type": "code",
   "execution_count": 103,
   "id": "3528905e-6aec-4e54-9406-7550b10060c7",
   "metadata": {
    "tags": []
   },
   "outputs": [
    {
     "name": "stdout",
     "output_type": "stream",
     "text": [
      "True\n"
     ]
    }
   ],
   "source": [
    "# 7. Do a and b have the same size? How do you prove that in Python code?\n",
    "print(a.size == b.size)"
   ]
  },
  {
   "cell_type": "code",
   "execution_count": 105,
   "id": "f7d4f051-cc5f-4258-966e-e0cda498ddc9",
   "metadata": {
    "tags": []
   },
   "outputs": [
    {
     "name": "stdout",
     "output_type": "stream",
     "text": [
      "Error: operands could not be broadcast together with shapes (2,3,5) (5,2,3) \n"
     ]
    }
   ],
   "source": [
    "# 8. Are you able to add a and b? Why or why not?\n",
    "try:\n",
    "    result = a + b\n",
    "except ValueError as e:\n",
    "    print(\"Error:\", e)"
   ]
  },
  {
   "cell_type": "code",
   "execution_count": 107,
   "id": "7654ca0b-59a0-4098-a6c2-ec94d44a0836",
   "metadata": {
    "tags": []
   },
   "outputs": [
    {
     "name": "stdout",
     "output_type": "stream",
     "text": [
      "(2, 3, 5)\n"
     ]
    }
   ],
   "source": [
    "# 9. Transpose b so that it has the same structure of a (i.e. become a 2x3x5 array). Assign the transposed array to variable \"c\".\n",
    "c = np.transpose(b, (1, 2, 0))\n",
    "print(c.shape)"
   ]
  },
  {
   "cell_type": "code",
   "execution_count": 109,
   "id": "12bd46c6-2c33-4f5b-ac6a-17683582516c",
   "metadata": {
    "tags": []
   },
   "outputs": [
    {
     "name": "stdout",
     "output_type": "stream",
     "text": [
      "[[[ 1.51289093  1.60941971  0.83360805  1.94994103 -0.24352384]\n",
      "  [ 1.12318304 -1.00373867 -0.04412502  2.11192634  1.58787829]\n",
      "  [-0.10396258  3.13382021  3.21697427  1.46803774  0.68313375]]\n",
      "\n",
      " [[ 1.51807043  0.21565722  1.13669463  3.28561586  1.34572975]\n",
      "  [ 1.31307379  1.47004352  0.49974361  0.62801451  0.28936411]\n",
      "  [-1.23738351 -0.73239138  1.10125341  0.80152487 -0.02420246]]]\n"
     ]
    }
   ],
   "source": [
    "# 10. Try to add a and c. Now it should work. Assign the sum to variable \"d\". But why does it work now?\n",
    "d = a + c\n",
    "print(d)"
   ]
  },
  {
   "cell_type": "code",
   "execution_count": 111,
   "id": "f1e38ca7-6f74-4776-b51d-f420759f879b",
   "metadata": {
    "tags": []
   },
   "outputs": [
    {
     "name": "stdout",
     "output_type": "stream",
     "text": [
      "a:\n",
      " [[[ 0.51289093  0.60941971 -0.16639195  0.94994103 -1.24352384]\n",
      "  [ 0.12318304 -2.00373867 -1.04412502  1.11192634  0.58787829]\n",
      "  [-1.10396258  2.13382021  2.21697427  0.46803774 -0.31686625]]\n",
      "\n",
      " [[ 0.51807043 -0.78434278  0.13669463  2.28561586  0.34572975]\n",
      "  [ 0.31307379  0.47004352 -0.50025639 -0.37198549 -0.71063589]\n",
      "  [-2.23738351 -1.73239138  0.10125341 -0.19847513 -1.02420246]]]\n",
      "d:\n",
      " [[[ 1.51289093  1.60941971  0.83360805  1.94994103 -0.24352384]\n",
      "  [ 1.12318304 -1.00373867 -0.04412502  2.11192634  1.58787829]\n",
      "  [-0.10396258  3.13382021  3.21697427  1.46803774  0.68313375]]\n",
      "\n",
      " [[ 1.51807043  0.21565722  1.13669463  3.28561586  1.34572975]\n",
      "  [ 1.31307379  1.47004352  0.49974361  0.62801451  0.28936411]\n",
      "  [-1.23738351 -0.73239138  1.10125341  0.80152487 -0.02420246]]]\n"
     ]
    }
   ],
   "source": [
    "# 11. Print a and d. Notice the difference and relation of the two array in terms of the values? Explain.\n",
    "print(\"a:\\n\", a)\n",
    "print(\"d:\\n\", d)"
   ]
  },
  {
   "cell_type": "code",
   "execution_count": 113,
   "id": "7e4e095d-d9b2-4f35-90b2-a54278236d2e",
   "metadata": {
    "tags": []
   },
   "outputs": [
    {
     "name": "stdout",
     "output_type": "stream",
     "text": [
      "[[[ 0.51289093  0.60941971 -0.16639195  0.94994103 -1.24352384]\n",
      "  [ 0.12318304 -2.00373867 -1.04412502  1.11192634  0.58787829]\n",
      "  [-1.10396258  2.13382021  2.21697427  0.46803774 -0.31686625]]\n",
      "\n",
      " [[ 0.51807043 -0.78434278  0.13669463  2.28561586  0.34572975]\n",
      "  [ 0.31307379  0.47004352 -0.50025639 -0.37198549 -0.71063589]\n",
      "  [-2.23738351 -1.73239138  0.10125341 -0.19847513 -1.02420246]]]\n"
     ]
    }
   ],
   "source": [
    "# 12. Multiply a and c. Assign the result to e.\n",
    "e = a * c\n",
    "print(e)"
   ]
  },
  {
   "cell_type": "code",
   "execution_count": 115,
   "id": "f8b3fa31-0c4b-43af-9e58-91914ba572e9",
   "metadata": {
    "tags": []
   },
   "outputs": [
    {
     "name": "stdout",
     "output_type": "stream",
     "text": [
      "True\n"
     ]
    }
   ],
   "source": [
    "# 13. Does e equal to a? Why or why not?\n",
    "print(np.array_equal(e, a))"
   ]
  },
  {
   "cell_type": "code",
   "execution_count": 117,
   "id": "e6f84c1b-335a-4017-b9ca-1ebe08fd4a3e",
   "metadata": {
    "tags": []
   },
   "outputs": [
    {
     "name": "stdout",
     "output_type": "stream",
     "text": [
      "d_max: 3.2856158635267563\n",
      "d_min: -1.237383511824362\n",
      "d_mean: 0.9815423880112941\n"
     ]
    }
   ],
   "source": [
    "# 14. Identify the max, min, and mean values in d. Assign those values to variables \"d_max\", \"d_min\", and \"d_mean\".\n",
    "d_max = d.max()\n",
    "d_min = d.min()\n",
    "d_mean = d.mean()\n",
    "print(\"d_max:\", d_max)\n",
    "print(\"d_min:\", d_min)\n",
    "print(\"d_mean:\", d_mean)"
   ]
  },
  {
   "cell_type": "code",
   "execution_count": 119,
   "id": "2f674aaa-435d-4583-8e31-7502c081fc81",
   "metadata": {
    "tags": []
   },
   "outputs": [
    {
     "name": "stdout",
     "output_type": "stream",
     "text": [
      "[[[0.51289093 0.60941971 0.16639195 0.94994103 1.24352384]\n",
      "  [0.12318304 2.00373867 1.04412502 1.11192634 0.58787829]\n",
      "  [1.10396258 2.13382021 2.21697427 0.46803774 0.31686625]]\n",
      "\n",
      " [[0.51807043 0.78434278 0.13669463 2.28561586 0.34572975]\n",
      "  [0.31307379 0.47004352 0.50025639 0.37198549 0.71063589]\n",
      "  [2.23738351 1.73239138 0.10125341 0.19847513 1.02420246]]]\n"
     ]
    }
   ],
   "source": [
    "# 15. Now we want to label the values in d. First create an empty array \"f\" with the same shape (i.e. 2x3x5) as d using `np.empty`.\n",
    "f = np.empty(d.shape)\n",
    "print(f)"
   ]
  },
  {
   "cell_type": "code",
   "execution_count": 121,
   "id": "82d47afb-10d8-49fb-8f90-cc194242c790",
   "metadata": {
    "tags": []
   },
   "outputs": [
    {
     "name": "stdout",
     "output_type": "stream",
     "text": [
      "[[[ 75.  75.  25.  75.  25.]\n",
      "  [ 75.  25.  25.  75.  75.]\n",
      "  [ 25.  75.  75.  75.  25.]]\n",
      "\n",
      " [[ 75.  25.  75. 100.  75.]\n",
      "  [ 75.  75.  25.  25.  25.]\n",
      "  [  0.  25.  75.  25.  25.]]]\n"
     ]
    }
   ],
   "source": [
    "\"\"\"\n",
    "#16. Populate the values in f. For each value in d, if it's larger than d_min but smaller than d_mean, assign 25 to the corresponding value in f.\n",
    "If a value in d is larger than d_mean but smaller than d_max, assign 75 to the corresponding value in f.\n",
    "If a value equals to d_mean, assign 50 to the corresponding value in f.\n",
    "Assign 0 to the corresponding value(s) in f for d_min in d.\n",
    "Assign 100 to the corresponding value(s) in f for d_max in d.\n",
    "In the end, f should have only the following values: 0, 25, 50, 75, and 100.\n",
    "Note: you don't have to use Numpy in this question.\n",
    "\"\"\"\n",
    "f = np.empty(d.shape)\n",
    "\n",
    "for i in range(d.shape[0]):\n",
    "    for j in range(d.shape[1]):\n",
    "        for k in range(d.shape[2]):\n",
    "            if d[i, j, k] == d_min:\n",
    "                f[i, j, k] = 0\n",
    "            elif d[i, j, k] == d_max:\n",
    "                f[i, j, k] = 100\n",
    "            elif d[i, j, k] == d_mean:\n",
    "                f[i, j, k] = 50\n",
    "            elif d_min < d[i, j, k] < d_mean:\n",
    "                f[i, j, k] = 25\n",
    "            elif d_mean < d[i, j, k] < d_max:\n",
    "                f[i, j, k] = 75\n",
    "\n",
    "print(f)"
   ]
  },
  {
   "cell_type": "code",
   "execution_count": 123,
   "id": "3d6d1df3-aee6-4800-9245-9eab0d337913",
   "metadata": {
    "tags": []
   },
   "outputs": [
    {
     "name": "stdout",
     "output_type": "stream",
     "text": [
      "d:\n",
      " [[[ 1.51289093  1.60941971  0.83360805  1.94994103 -0.24352384]\n",
      "  [ 1.12318304 -1.00373867 -0.04412502  2.11192634  1.58787829]\n",
      "  [-0.10396258  3.13382021  3.21697427  1.46803774  0.68313375]]\n",
      "\n",
      " [[ 1.51807043  0.21565722  1.13669463  3.28561586  1.34572975]\n",
      "  [ 1.31307379  1.47004352  0.49974361  0.62801451  0.28936411]\n",
      "  [-1.23738351 -0.73239138  1.10125341  0.80152487 -0.02420246]]]\n",
      "f:\n",
      " [[[ 75.  75.  25.  75.  25.]\n",
      "  [ 75.  25.  25.  75.  75.]\n",
      "  [ 25.  75.  75.  75.  25.]]\n",
      "\n",
      " [[ 75.  25.  75. 100.  75.]\n",
      "  [ 75.  75.  25.  25.  25.]\n",
      "  [  0.  25.  75.  25.  25.]]]\n"
     ]
    }
   ],
   "source": [
    "\"\"\"\n",
    "#17. Print d and f. Do you have your expected f?\n",
    "For instance, if your d is:\n",
    "array([[[1.85836099, 1.67064465, 1.62576044, 1.40243961, 1.88454931],\n",
    "        [1.75354326, 1.69403643, 1.36729252, 1.61415071, 1.12104981],\n",
    "        [1.72201435, 1.1862918 , 1.87078449, 1.7726778 , 1.88180042]],\n",
    "\n",
    "       [[1.44747908, 1.31673383, 1.02000951, 1.52218947, 1.97066381],\n",
    "        [1.79129243, 1.74983003, 1.96028037, 1.85166831, 1.65450881],\n",
    "        [1.18068344, 1.9587381 , 1.00656599, 1.93402165, 1.73514584]]])\n",
    "\n",
    "Your f should be:\n",
    "array([[[ 75.,  75.,  75.,  25.,  75.],\n",
    "        [ 75.,  75.,  25.,  25.,  25.],\n",
    "        [ 75.,  25.,  75.,  75.,  75.]],\n",
    "\n",
    "       [[ 25.,  25.,  25.,  25., 100.],\n",
    "        [ 75.,  75.,  75.,  75.,  75.],\n",
    "        [ 25.,  75.,   0.,  75.,  75.]]])\n",
    "\"\"\"\n",
    "\n",
    "\n",
    "print(\"d:\\n\", d)\n",
    "print(\"f:\\n\", f)"
   ]
  },
  {
   "cell_type": "code",
   "execution_count": 125,
   "id": "7d019295-bc1d-4474-ac7d-d586aee1d1ab",
   "metadata": {
    "tags": []
   },
   "outputs": [
    {
     "name": "stdout",
     "output_type": "stream",
     "text": [
      "a:\n",
      " [[[-1.80555711  0.42449699  0.97966455  1.18489526 -1.01983449]\n",
      "  [-0.03105534 -0.81909656  0.79527872 -0.57937706 -1.96723084]\n",
      "  [ 0.09807858  0.26478916  1.19756014 -0.14797622 -0.51225286]]\n",
      "\n",
      " [[ 0.19184078 -0.14493872  0.62990013  0.27028547 -0.84753394]\n",
      "  [-0.62749025  2.28289587  0.87647448 -0.90186253 -1.82012102]\n",
      "  [-0.30868094  1.08999952 -0.44367401  0.42616382 -1.28228409]]]\n",
      "b:\n",
      " [[[1. 1. 1.]\n",
      "  [1. 1. 1.]]\n",
      "\n",
      " [[1. 1. 1.]\n",
      "  [1. 1. 1.]]\n",
      "\n",
      " [[1. 1. 1.]\n",
      "  [1. 1. 1.]]\n",
      "\n",
      " [[1. 1. 1.]\n",
      "  [1. 1. 1.]]\n",
      "\n",
      " [[1. 1. 1.]\n",
      "  [1. 1. 1.]]]\n",
      "d:\n",
      " [[[-0.80555711  1.42449699  1.97966455  2.18489526 -0.01983449]\n",
      "  [ 0.96894466  0.18090344  1.79527872  0.42062294 -0.96723084]\n",
      "  [ 1.09807858  1.26478916  2.19756014  0.85202378  0.48774714]]\n",
      "\n",
      " [[ 1.19184078  0.85506128  1.62990013  1.27028547  0.15246606]\n",
      "  [ 0.37250975  3.28289587  1.87647448  0.09813747 -0.82012102]\n",
      "  [ 0.69131906  2.08999952  0.55632599  1.42616382 -0.28228409]]]\n",
      "f:\n",
      " [[['B' 'D' 'D' 'D' 'B']\n",
      "  ['D' 'B' 'D' 'B' 'A']\n",
      "  ['D' 'D' 'D' 'B' 'B']]\n",
      "\n",
      " [['D' 'B' 'D' 'D' 'B']\n",
      "  ['B' 'E' 'D' 'B' 'B']\n",
      "  ['B' 'D' 'B' 'D' 'B']]]\n"
     ]
    }
   ],
   "source": [
    "\"\"\"\n",
    "#18. Bonus question: instead of using numbers (i.e. 0, 25, 50, 75, and 100), how to use string values \n",
    "(\"A\", \"B\", \"C\", \"D\", and \"E\") to label the array elements? You are expecting the result to be:\n",
    "array([[[ 'D',  'D',  'D',  'B',  'D'],\n",
    "        [ 'D',  'D',  'B',  'B',  'B'],\n",
    "        [ 'D',  'B',  'D',  'D',  'D']],\n",
    "\n",
    "       [[ 'B',  'B',  'B',  'B',  'E'],\n",
    "        [ 'D',  'D',  'D',  'D',  'D'],\n",
    "        [ 'B',  'D',   'A',  'D', 'D']]])\n",
    "Again, you don't need Numpy in this question.\n",
    "\"\"\"\n",
    "a = np.random.randn(2, 3, 5)\n",
    "\n",
    "print(\"a:\\n\", a)\n",
    "\n",
    "b = np.ones((5, 2, 3))\n",
    "\n",
    "print(\"b:\\n\", b)\n",
    "\n",
    "c = np.transpose(b, (1, 2, 0))\n",
    "\n",
    "d = a + c\n",
    "\n",
    "d_max = d.max()\n",
    "d_min = d.min()\n",
    "d_mean = d.mean()\n",
    "\n",
    "f = np.empty(d.shape, dtype=str)\n",
    "\n",
    "for i in range(d.shape[0]):\n",
    "    for j in range(d.shape[1]):\n",
    "        for k in range(d.shape[2]):\n",
    "            if d[i, j, k] == d_min:\n",
    "                f[i, j, k] = 'A'\n",
    "            elif d[i, j, k] == d_max:\n",
    "                f[i, j, k] = 'E'\n",
    "            elif d[i, j, k] == d_mean:\n",
    "                f[i, j, k] = 'C'\n",
    "            elif d_min < d[i, j, k] < d_mean:\n",
    "                f[i, j, k] = 'B'\n",
    "            elif d_mean < d[i, j, k] < d_max:\n",
    "                f[i, j, k] = 'D'\n",
    "\n",
    "print(\"d:\\n\", d)\n",
    "print(\"f:\\n\", f)"
   ]
  },
  {
   "cell_type": "code",
   "execution_count": null,
   "id": "4d4cfe0f-c3b1-4764-812e-017d3b6b47a1",
   "metadata": {},
   "outputs": [],
   "source": []
  }
 ],
 "metadata": {
  "kernelspec": {
   "display_name": "Python 3 (ipykernel)",
   "language": "python",
   "name": "python3"
  },
  "language_info": {
   "codemirror_mode": {
    "name": "ipython",
    "version": 3
   },
   "file_extension": ".py",
   "mimetype": "text/x-python",
   "name": "python",
   "nbconvert_exporter": "python",
   "pygments_lexer": "ipython3",
   "version": "3.11.7"
  }
 },
 "nbformat": 4,
 "nbformat_minor": 5
}
